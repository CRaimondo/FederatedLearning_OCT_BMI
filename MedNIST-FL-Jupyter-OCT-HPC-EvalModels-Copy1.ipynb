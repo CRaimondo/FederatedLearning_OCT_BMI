{
 "cells": [
  {
   "cell_type": "markdown",
   "id": "b306e95a",
   "metadata": {},
   "source": [
    "# MedNIST Federated Learning\n",
    " **Goal: Train and Evaluate Performance (Accuracy, AUC, F1-Score) on two MedNIST Datasets, Retina (ordinal regression) & OCT (multi-class) in three paradigms:** \n",
    "\n",
    "1. Centrally Trained\n",
    "2. POC Federated Environment (1 node, running 2 clients)\n",
    "3. Federated Deployment (2 nodes, each running 1 client) \n",
    "4. Multi-institutional Federated Deployment"
   ]
  },
  {
   "cell_type": "code",
   "execution_count": 9,
   "id": "f1318f3d",
   "metadata": {},
   "outputs": [
    {
     "name": "stdout",
     "output_type": "stream",
     "text": [
      "Using device: cpu\n"
     ]
    }
   ],
   "source": [
    "# Install Packages\n",
    "import sys\n",
    "import os\n",
    "from glob import glob\n",
    "from six.moves import urllib\n",
    "import tarfile\n",
    "#\n",
    "import torch\n",
    "import torch.nn as nn\n",
    "import torch.nn.functional as F\n",
    "from torch.utils.data import Dataset, DataLoader\n",
    "import torch.optim as optim\n",
    "import torchvision.transforms as transforms\n",
    "import PIL\n",
    "from PIL import Image\n",
    "#\n",
    "from sklearn.metrics import roc_auc_score\n",
    "from sklearn.metrics import roc_curve\n",
    "from sklearn.metrics import auc\n",
    "from sklearn.metrics import accuracy_score\n",
    "from sklearn.metrics import confusion_matrix\n",
    "from sklearn.preprocessing import label_binarize\n",
    "from sklearn.utils.multiclass import unique_labels\n",
    "from sklearn.model_selection import train_test_split\n",
    "from sklearn.preprocessing import LabelEncoder\n",
    "from skimage import io\n",
    "from skimage import color\n",
    "#\n",
    "import matplotlib.pyplot as plt\n",
    "import pandas as pd\n",
    "import numpy as np\n",
    "import random\n",
    "import statistics\n",
    "from itertools import cycle\n",
    "#\n",
    "import time\n",
    "from tqdm import trange\n",
    "from tqdm import tqdm\n",
    "import cv2\n",
    "import warnings\n",
    "warnings.filterwarnings('ignore')\n",
    "#\n",
    "from collections import Sequence\n",
    "from medmnist.info import INFO, HOMEPAGE, DEFAULT_ROOT\n",
    "from collections import namedtuple\n",
    "\n",
    "device = torch.device('cuda' if torch.cuda.is_available() else 'cpu')\n",
    "print('Using device:', device)\n",
    "if device.type == 'cuda':\n",
    "    print(torch.cuda.get_device_name(0))\n",
    "    print('Memory Usage:')\n",
    "    print('Allocated:', round(torch.cuda.memory_allocated(0)/10243,1), 'GB')\n",
    "    print('Cached:   ', round(torch.cuda.memory_reserved(0)/10243,1), 'GB')"
   ]
  },
  {
   "cell_type": "code",
   "execution_count": 2,
   "id": "8fbbcad9",
   "metadata": {},
   "outputs": [
    {
     "name": "stdout",
     "output_type": "stream",
     "text": [
      "Using device: cpu\n"
     ]
    }
   ],
   "source": [
    "device = torch.device('cuda' if torch.cuda.is_available() else 'cpu')\n",
    "print('Using device:', device)\n",
    "if device.type == 'cuda':\n",
    "    print(torch.cuda.get_device_name(0))\n",
    "    print('Memory Usage:')\n",
    "    print('Allocated:', round(torch.cuda.memory_allocated(0)/10243,1), 'GB')\n",
    "    print('Cached:   ', round(torch.cuda.memory_reserved(0)/10243,1), 'GB')"
   ]
  },
  {
   "cell_type": "code",
   "execution_count": 3,
   "id": "0dab2f78",
   "metadata": {},
   "outputs": [
    {
     "data": {
      "text/plain": [
       "'/Users/christianraimondo/cdr9650/MedMNIST'"
      ]
     },
     "execution_count": 3,
     "metadata": {},
     "output_type": "execute_result"
    }
   ],
   "source": [
    "pwd"
   ]
  },
  {
   "cell_type": "code",
   "execution_count": 4,
   "id": "dd717b3a",
   "metadata": {},
   "outputs": [],
   "source": [
    "# Download dataset (we want the .png and csv files for splitting in federated config)\n",
    "#pip install --upgrade git+https://github.com/MedMNIST/MedMNIST.git\n",
    "# python -m medmnist save --flag=octmnist --folder= ./octnmist --postfix=png\n",
    "# python -m medmnist save --flag=retinamnist --folder=./MedMNIST/ --postfix=png"
   ]
  },
  {
   "cell_type": "code",
   "execution_count": 4,
   "id": "63ec5305",
   "metadata": {
    "scrolled": true
   },
   "outputs": [
    {
     "name": "stdout",
     "output_type": "stream",
     "text": [
      "MedNIST-FL-Jupyter-OCT-HPC-EvalModels-Copy1.ipynb\r\n",
      "MedNIST-FL-Jupyter-OCT-HPC-EvalModels.ipynb\r\n",
      "MedNIST-FL-Jupyter-OCT-SCRATCH.ipynb\r\n",
      "MedNIST-FL-Jupyter-OCT.ipynb\r\n",
      "MedNIST-FL-Jupyter-Retina.ipynb\r\n",
      "MedNIST-Jupyter.ipynb\r\n",
      "\u001b[34minput\u001b[m\u001b[m\r\n",
      "octmnist.npz\r\n",
      "\u001b[34moctmnist_input\u001b[m\u001b[m\r\n",
      "\u001b[34moutput\u001b[m\u001b[m\r\n",
      "retinamnist.npz\r\n",
      "\u001b[34mretinamnist_input\u001b[m\u001b[m\r\n"
     ]
    }
   ],
   "source": [
    "! ls"
   ]
  },
  {
   "cell_type": "code",
   "execution_count": 6,
   "id": "ad23715d",
   "metadata": {},
   "outputs": [
    {
     "name": "stdout",
     "output_type": "stream",
     "text": [
      "octmnist_images\t\t\ttrainlabels_site2_SUBSET25.csv\r\n",
      "octmnist_labels.csv\t\tvallabels_site1_SUBSET15.csv\r\n",
      "octmnist_labels_test.csv\tvallabels_site1_SUBSET20.csv\r\n",
      "octmnist_labels_train.csv\tvallabels_site1_SUBSET25.csv\r\n",
      "octmnist_labels_val.csv\t\tvallabels_site1_SUBSET.csv\r\n",
      "trainlabels_site1_SUBSET15.csv\tvallabels_site2_SUBSET15.csv\r\n",
      "trainlabels_site1_SUBSET20.csv\tvallabels_site2_SUBSET20.csv\r\n",
      "trainlabels_site1_SUBSET25.csv\tvallabels_site2_SUBSET25.csv\r\n",
      "trainlabels_site2_SUBSET15.csv\tvallabels_site2_SUBSET.csv\r\n",
      "trainlabels_site2_SUBSET20.csv\r\n"
     ]
    }
   ],
   "source": [
    "! ls ./octmnist/octmnist_input"
   ]
  },
  {
   "cell_type": "markdown",
   "id": "4821758c",
   "metadata": {},
   "source": [
    "### OCT Dataset"
   ]
  },
  {
   "cell_type": "code",
   "execution_count": 7,
   "id": "c88798f3",
   "metadata": {},
   "outputs": [
    {
     "name": "stdout",
     "output_type": "stream",
     "text": [
      "{'MD5': 'c68d92d5b585d8d81f7112f81e2d0842',\r\n",
      " 'description': 'The OCTMNIST is based on a prior dataset of 109,309 valid '\r\n",
      "                'optical coherence tomography (OCT) images for retinal '\r\n",
      "                'diseases. The dataset is comprised of 4 diagnosis categories, '\r\n",
      "                'leading to a multi-class classification task. We split the '\r\n",
      "                'source training set with a ratio of 9:1 into training and '\r\n",
      "                'validation set, and use its source validation set as the test '\r\n",
      "                'set. The source images are gray-scale, and their sizes are '\r\n",
      "                '(384−1,536)×(277−512). We center-crop the images and resize '\r\n",
      "                'them into 1×28×28.',\r\n",
      " 'label': {'0': 'choroidal neovascularization',\r\n",
      "           '1': 'diabetic macular edema',\r\n",
      "           '2': 'drusen',\r\n",
      "           '3': 'normal'},\r\n",
      " 'license': 'CC BY 4.0',\r\n",
      " 'n_channels': 1,\r\n",
      " 'n_samples': {'test': 1000, 'train': 97477, 'val': 10832},\r\n",
      " 'python_class': 'OCTMNIST',\r\n",
      " 'task': 'multi-class',\r\n",
      " 'url': 'https://zenodo.org/record/6496656/files/octmnist.npz?download=1'}\r\n"
     ]
    }
   ],
   "source": [
    "!  python -m medmnist info --flag=octmnist"
   ]
  },
  {
   "cell_type": "markdown",
   "id": "037a3d61",
   "metadata": {},
   "source": [
    "### Data Pre-Processing"
   ]
  },
  {
   "cell_type": "code",
   "execution_count": 10,
   "id": "dae55438",
   "metadata": {},
   "outputs": [
    {
     "name": "stdout",
     "output_type": "stream",
     "text": [
      "Train Dataset Shape: (97477, 3)\n",
      "Validation Dataset Shape: (10832, 3)\n",
      "Test Dataset Shape: (1000, 3)\n"
     ]
    },
    {
     "data": {
      "text/html": [
       "<div>\n",
       "<style scoped>\n",
       "    .dataframe tbody tr th:only-of-type {\n",
       "        vertical-align: middle;\n",
       "    }\n",
       "\n",
       "    .dataframe tbody tr th {\n",
       "        vertical-align: top;\n",
       "    }\n",
       "\n",
       "    .dataframe thead th {\n",
       "        text-align: right;\n",
       "    }\n",
       "</style>\n",
       "<table border=\"1\" class=\"dataframe\">\n",
       "  <thead>\n",
       "    <tr style=\"text-align: right;\">\n",
       "      <th></th>\n",
       "      <th>split</th>\n",
       "      <th>image</th>\n",
       "      <th>label</th>\n",
       "    </tr>\n",
       "  </thead>\n",
       "  <tbody>\n",
       "    <tr>\n",
       "      <th>0</th>\n",
       "      <td>TRAIN</td>\n",
       "      <td>train0_0</td>\n",
       "      <td>0</td>\n",
       "    </tr>\n",
       "    <tr>\n",
       "      <th>1</th>\n",
       "      <td>TRAIN</td>\n",
       "      <td>train1_3</td>\n",
       "      <td>3</td>\n",
       "    </tr>\n",
       "    <tr>\n",
       "      <th>2</th>\n",
       "      <td>TRAIN</td>\n",
       "      <td>train2_3</td>\n",
       "      <td>3</td>\n",
       "    </tr>\n",
       "    <tr>\n",
       "      <th>3</th>\n",
       "      <td>TRAIN</td>\n",
       "      <td>train3_3</td>\n",
       "      <td>3</td>\n",
       "    </tr>\n",
       "    <tr>\n",
       "      <th>4</th>\n",
       "      <td>TRAIN</td>\n",
       "      <td>train4_0</td>\n",
       "      <td>0</td>\n",
       "    </tr>\n",
       "  </tbody>\n",
       "</table>\n",
       "</div>"
      ],
      "text/plain": [
       "   split     image  label\n",
       "0  TRAIN  train0_0      0\n",
       "1  TRAIN  train1_3      3\n",
       "2  TRAIN  train2_3      3\n",
       "3  TRAIN  train3_3      3\n",
       "4  TRAIN  train4_0      0"
      ]
     },
     "execution_count": 10,
     "metadata": {},
     "output_type": "execute_result"
    }
   ],
   "source": [
    "# Labels CSV \n",
    "train_labels = pd.read_csv('./octmnist_input/octmnist_labels_train.csv')\n",
    "val_labels = pd.read_csv('./octmnist_input/octmnist_labels_val.csv')\n",
    "test_labels = pd.read_csv('./octmnist_input/octmnist_labels_test.csv')\n",
    "\n",
    "print('Train Dataset Shape:', train_labels.shape)\n",
    "print('Validation Dataset Shape:', val_labels.shape)\n",
    "print('Test Dataset Shape:', test_labels.shape)\n",
    "\n",
    "train_labels.head()"
   ]
  },
  {
   "cell_type": "code",
   "execution_count": 11,
   "id": "954d8690",
   "metadata": {},
   "outputs": [
    {
     "name": "stdout",
     "output_type": "stream",
     "text": [
      "Train label frequencies\n",
      " 3    46026\n",
      "0    33484\n",
      "1    10213\n",
      "2     7754\n",
      "Name: label, dtype: int64\n"
     ]
    }
   ],
   "source": [
    "print('Train label frequencies\\n',train_labels['label'].value_counts())"
   ]
  },
  {
   "cell_type": "code",
   "execution_count": 12,
   "id": "71b6d7d7",
   "metadata": {},
   "outputs": [
    {
     "name": "stdout",
     "output_type": "stream",
     "text": [
      "Val label frequencies\n",
      " 3    5114\n",
      "0    3721\n",
      "1    1135\n",
      "2     862\n",
      "Name: label, dtype: int64\n"
     ]
    }
   ],
   "source": [
    "print('Val label frequencies\\n',val_labels['label'].value_counts())"
   ]
  },
  {
   "cell_type": "code",
   "execution_count": 13,
   "id": "02d5e32d",
   "metadata": {},
   "outputs": [
    {
     "name": "stdout",
     "output_type": "stream",
     "text": [
      "Test label frequencies\n",
      " 3    250\n",
      "2    250\n",
      "0    250\n",
      "1    250\n",
      "Name: label, dtype: int64\n"
     ]
    }
   ],
   "source": [
    "print('Test label frequencies\\n',test_labels['label'].value_counts())"
   ]
  },
  {
   "cell_type": "markdown",
   "id": "f0d38f2e",
   "metadata": {},
   "source": [
    "### ResNet18 Dataloader"
   ]
  },
  {
   "cell_type": "code",
   "execution_count": 14,
   "id": "30ac0d85",
   "metadata": {},
   "outputs": [],
   "source": [
    "data_transform = transforms.Compose([\n",
    "                                    #transforms.RandomHorizontalFlip(),\n",
    "                                    #transforms.ColorJitter(brightness =0.5, hue = 0.5, \n",
    "                                                           #saturation = 0.5, contrast = 0.5),\n",
    "                                    transforms.ToTensor(),\n",
    "                                    transforms.Normalize((0.485, 0.456, 0.406), (0.229, 0.224, 0.225))\n",
    "                                ])\n",
    "\n",
    "\n",
    "     \n",
    "class Dataset_resnet18(Dataset):\n",
    "\n",
    "    def __init__(self, csv_file, image_path, transform = None):\n",
    "        \"\"\"\n",
    "        Args:\n",
    "            csv_file (string): Path to the csv file filename information.\n",
    "            root_dir (string): Directory with all the images.\n",
    "            transform (callable, optional): Optional transform to be applied\n",
    "                on a sample.\n",
    "        \"\"\"\n",
    "        self.data_frame = pd.read_csv(csv_file)\n",
    "        self.image_path = image_path\n",
    "        self.transform = transform\n",
    "    \n",
    "    def __len__(self):\n",
    "        return len(self.data_frame)\n",
    "\n",
    "    def __getitem__(self, idx):\n",
    "        img_name = os.path.join(self.image_path,\n",
    "                                self.data_frame.iloc[idx, 1] + '.png')\n",
    "        \n",
    "        image = Image.open(img_name).convert('RGB') \n",
    "        \n",
    "        image = data_transform(image)\n",
    "                \n",
    "        image_class = self.data_frame.iloc[idx, -1]\n",
    "            \n",
    "        sample = {'image': image.float(), 'label': image_class}\n",
    "\n",
    "        return sample"
   ]
  },
  {
   "cell_type": "code",
   "execution_count": 17,
   "id": "55ddfac1",
   "metadata": {},
   "outputs": [],
   "source": [
    "train_df_path = './octmnist_input/octmnist_labels_train.csv'\n",
    "val_df_path = './octmnist_input/octmnist_labels_val.csv'\n",
    "test_df_path = './octmnist_input/octmnist_labels_test.csv'\n",
    "\n",
    "# Path to images\n",
    "image_path = './octmnist_input/octmnist_images'\n",
    "\n",
    "\n",
    "transformed_dataset = {'train': Dataset_resnet18(train_df_path, image_path, transform = data_transform),  # change per task\n",
    "                       'validate':Dataset_resnet18(val_df_path, image_path, transform = data_transform),  # change per task\n",
    "                       'test': Dataset_resnet18(test_df_path, image_path, transform = data_transform),  # change per task\n",
    "                                          }\n",
    "batch_size = 64\n",
    "dataloader = {x: DataLoader(transformed_dataset[x], batch_size=batch_size,\n",
    "                            shuffle=True, num_workers=0,\n",
    "                            drop_last = False, pin_memory=False) for x in ['train', 'validate', 'test']}"
   ]
  },
  {
   "cell_type": "code",
   "execution_count": 18,
   "id": "41bf2207",
   "metadata": {},
   "outputs": [],
   "source": [
    "sample = next(iter(dataloader['train']))"
   ]
  },
  {
   "cell_type": "code",
   "execution_count": 19,
   "id": "6bcd939f",
   "metadata": {},
   "outputs": [
    {
     "name": "stdout",
     "output_type": "stream",
     "text": [
      "torch.Size([64, 3, 28, 28])\n",
      "tensor([3, 3, 0, 1, 3, 0, 0, 3, 1, 1, 3, 3, 1, 0, 3, 3, 3, 3, 3, 2, 1, 3, 3, 3,\n",
      "        0, 0, 2, 3, 0, 3, 3, 3, 0, 1, 1, 3, 3, 3, 0, 0, 0, 3, 0, 3, 3, 0, 1, 1,\n",
      "        1, 0, 1, 1, 3, 0, 3, 1, 3, 3, 0, 0, 3, 3, 1, 0])\n"
     ]
    }
   ],
   "source": [
    "print(sample['image'].size())\n",
    "print(sample['label'])"
   ]
  },
  {
   "cell_type": "code",
   "execution_count": 20,
   "id": "63f7c7ba",
   "metadata": {},
   "outputs": [
    {
     "data": {
      "text/plain": [
       "torch.Size([64, 3, 28, 28])"
      ]
     },
     "execution_count": 20,
     "metadata": {},
     "output_type": "execute_result"
    }
   ],
   "source": [
    "sample_image = sample['image']\n",
    "sample_image.shape"
   ]
  },
  {
   "cell_type": "code",
   "execution_count": 21,
   "id": "8432a27d",
   "metadata": {},
   "outputs": [
    {
     "data": {
      "image/png": "[encoded data removed]",
      "text/plain": [
       "<Figure size 720x720 with 1 Axes>"
      ]
     },
     "metadata": {
      "needs_background": "light"
     },
     "output_type": "display_data"
    },
    {
     "data": {
      "image/png": "[encoded data removed]",
      "text/plain": [
       "<Figure size 720x720 with 1 Axes>"
      ]
     },
     "metadata": {
      "needs_background": "light"
     },
     "output_type": "display_data"
    }
   ],
   "source": [
    "plt.figure(figsize=(10, 10));\n",
    "plt.imshow(sample['image'][0][0].numpy(),cmap='gray');\n",
    "plt.axis('off');\n",
    "plt.show(0);"
   ]
  },
  {
   "cell_type": "markdown",
   "id": "fe17d0ac",
   "metadata": {},
   "source": [
    "### Trainning"
   ]
  },
  {
   "cell_type": "code",
   "execution_count": 18,
   "id": "b059e011",
   "metadata": {},
   "outputs": [],
   "source": [
    "# Save model to directory\n",
    "def save_model(model, best_model_wts, train_loss_return,train_acc_return,\\\n",
    "               val_loss_return, val_acc_return, save_name):\n",
    "    \n",
    "    state = {'best_model_wts':best_model_wts, 'model':model, \\\n",
    "             'train_loss':train_loss_return, 'train_acc':train_acc_return,\\\n",
    "             'val_loss':val_loss_return, 'val_acc':val_acc_return}\n",
    "    \n",
    "    torch.save(state, './octmnist/output/' + save_name +'.pt')\n",
    "    return None\n",
    "\n",
    "def train_model(model, dataloader, optimizer, loss_fn, num_epochs, verbose = False, save_name = 'model'):\n",
    "    acc_dict = {'train':[],'validate':[]}\n",
    "    loss_dict = {'train':[],'validate':[]}\n",
    "    best_acc = 0\n",
    "    phases = ['train','validate']\n",
    "    since = time.time()\n",
    "    y_pred = []\n",
    "    y_true = []\n",
    "    \n",
    "    for i in tqdm(range(num_epochs)):\n",
    "        print('Epoch: {}/{}'.format(i+1, num_epochs))\n",
    "        print('-'*10)\n",
    "        for p in phases:\n",
    "            running_correct = 0\n",
    "            running_loss = 0\n",
    "            running_total = 0\n",
    "            if p == 'train':\n",
    "                model.train()\n",
    "            else:\n",
    "                model.eval()\n",
    "\n",
    "            for data in dataloader[p]:\n",
    "                optimizer.zero_grad()\n",
    "                image = data['image'].to(device)\n",
    "                label = data['label'].to(device)\n",
    "                #label = torch.squeeze(label, 1).long().to(device) try this if doesnt work\n",
    "                output = model(image)\n",
    "                loss = loss_fn(output, label)\n",
    "                _, preds = torch.max(output, dim = 1)\n",
    "                num_imgs = image.size()[0]\n",
    "                running_correct += torch.sum(preds ==label).item()\n",
    "                running_loss += loss.item()*num_imgs\n",
    "                running_total += num_imgs\n",
    "            \n",
    "                if p== 'train':\n",
    "                    loss.backward()\n",
    "                    optimizer.step()\n",
    "                \n",
    "                if p== 'validate':\n",
    "                    if i == num_epochs-1:\n",
    "                        y_pred += preds.tolist()\n",
    "                        y_true += label.tolist()\n",
    "                       \n",
    "            epoch_acc = float(running_correct/running_total)\n",
    "            epoch_loss = float(running_loss/running_total)\n",
    "\n",
    "            \n",
    "            if verbose or (i%10 == 0):\n",
    "                time_elapsed = time.time() - since\n",
    "                print('Phase:{}, Epoch Loss: {:.4f} | Epoch Acc: {:.4f} | {:.0f}m {:.0f}s'.format(p, np.average(loss_dict[p]),\n",
    "                                                                                              epoch_acc, time_elapsed // 60, time_elapsed % 60))\n",
    "                \n",
    "            acc_dict[p].append(epoch_acc)\n",
    "            loss_dict[p].append(epoch_loss)\n",
    "            \n",
    "            if p == 'validate':\n",
    "                if epoch_acc > best_acc:\n",
    "                    best_acc = epoch_acc\n",
    "                    best_model_wts = model.state_dict()\n",
    "                    \n",
    "            #scheduler.step()\n",
    "             \n",
    "    time_elapsed = time.time() - since\n",
    "    print('Training complete in {:.0f}m {:.0f}s'.format(time_elapsed // 60, time_elapsed % 60))\n",
    "    print('Best val acc: {:4f}'.format(best_acc))\n",
    "    \n",
    "    model.load_state_dict(best_model_wts)\n",
    "    \n",
    "    save_model(model, best_model_wts, loss_dict['train'], acc_dict['train'],\\\n",
    "                       loss_dict['validate'], acc_dict['validate'], save_name=save_name)\n",
    "    \n",
    "    return model, acc_dict, loss_dict, y_pred, y_true"
   ]
  },
  {
   "cell_type": "code",
   "execution_count": 10,
   "id": "ed7229e7",
   "metadata": {},
   "outputs": [],
   "source": [
    "from torchvision import models as models\n",
    "resnet18 = models.resnet18(pretrained = False)\n",
    "resnet18.conv1 = nn.Conv2d(3, 64, kernel_size=(7, 7), stride= (2,2) , padding=(3, 3), bias=False)  # change per task\n",
    "resnet18.fc = nn.Linear(512,4, bias = False)  # change per task\n",
    "#print(resnet18)"
   ]
  },
  {
   "cell_type": "code",
   "execution_count": 11,
   "id": "a49c65ab",
   "metadata": {},
   "outputs": [],
   "source": [
    "num_epochs = 5\n",
    "lr = 0.0003\n",
    "gamma=0.1\n",
    "milestones = [0.5 * num_epochs, 0.75 * num_epochs]"
   ]
  },
  {
   "cell_type": "code",
   "execution_count": 21,
   "id": "27c6e96f",
   "metadata": {
    "scrolled": true
   },
   "outputs": [
    {
     "name": "stderr",
     "output_type": "stream",
     "text": [
      "\r",
      "  0%|          | 0/5 [00:00<?, ?it/s]"
     ]
    },
    {
     "name": "stdout",
     "output_type": "stream",
     "text": [
      "Epoch: 1/5\n",
      "----------\n",
      "Phase:train, Epoch Loss: nan | Epoch Acc: 0.8074 | 1m 31s\n"
     ]
    },
    {
     "name": "stderr",
     "output_type": "stream",
     "text": [
      "\r",
      " 20%|██        | 1/5 [01:40<06:41, 100.30s/it]"
     ]
    },
    {
     "name": "stdout",
     "output_type": "stream",
     "text": [
      "Phase:validate, Epoch Loss: nan | Epoch Acc: 0.8336 | 1m 40s\n",
      "Epoch: 2/5\n",
      "----------\n",
      "Phase:train, Epoch Loss: 0.5452 | Epoch Acc: 0.8591 | 3m 12s\n"
     ]
    },
    {
     "name": "stderr",
     "output_type": "stream",
     "text": [
      "\r",
      " 40%|████      | 2/5 [03:21<05:01, 100.63s/it]"
     ]
    },
    {
     "name": "stdout",
     "output_type": "stream",
     "text": [
      "Phase:validate, Epoch Loss: 0.4865 | Epoch Acc: 0.8650 | 3m 21s\n",
      "Epoch: 3/5\n",
      "----------\n",
      "Phase:train, Epoch Loss: 0.4714 | Epoch Acc: 0.8768 | 4m 53s\n"
     ]
    },
    {
     "name": "stderr",
     "output_type": "stream",
     "text": [
      "\r",
      " 60%|██████    | 3/5 [05:02<03:22, 101.05s/it]"
     ]
    },
    {
     "name": "stdout",
     "output_type": "stream",
     "text": [
      "Phase:validate, Epoch Loss: 0.4403 | Epoch Acc: 0.8296 | 5m 3s\n",
      "Epoch: 4/5\n",
      "----------\n",
      "Phase:train, Epoch Loss: 0.4304 | Epoch Acc: 0.8898 | 6m 34s\n"
     ]
    },
    {
     "name": "stderr",
     "output_type": "stream",
     "text": [
      "\r",
      " 80%|████████  | 4/5 [06:43<01:41, 101.12s/it]"
     ]
    },
    {
     "name": "stdout",
     "output_type": "stream",
     "text": [
      "Phase:validate, Epoch Loss: 0.4498 | Epoch Acc: 0.8781 | 6m 44s\n",
      "Epoch: 5/5\n",
      "----------\n",
      "Phase:train, Epoch Loss: 0.4006 | Epoch Acc: 0.8989 | 8m 16s\n"
     ]
    },
    {
     "name": "stderr",
     "output_type": "stream",
     "text": [
      "100%|██████████| 5/5 [08:26<00:00, 101.35s/it]"
     ]
    },
    {
     "name": "stdout",
     "output_type": "stream",
     "text": [
      "Phase:validate, Epoch Loss: 0.4250 | Epoch Acc: 0.8889 | 8m 27s\n",
      "Training complete in 8m 27s\n",
      "Best val acc: 0.888940\n"
     ]
    },
    {
     "name": "stderr",
     "output_type": "stream",
     "text": [
      "\n"
     ]
    }
   ],
   "source": [
    "model = resnet18\n",
    "optimizer = torch.optim.Adam(model.parameters(), lr=lr)\n",
    "#scheduler = torch.optim.lr_scheduler.MultiStepLR(optimizer, milestones=milestones, gamma=gamma)\n",
    "loss_fn = nn.CrossEntropyLoss()\n",
    "\n",
    "model, acc_dict, loss_dict, y_pred, y_true = train_model(model.to(device), \n",
    "                                                                   dataloader, optimizer, loss_fn, \n",
    "                                                                   num_epochs = num_epochs , verbose = True, \n",
    "                                                                   save_name = 'Resnet18-OCT224-Run5')"
   ]
  },
  {
   "cell_type": "code",
   "execution_count": 44,
   "id": "6c1541bd",
   "metadata": {},
   "outputs": [
    {
     "data": {
      "text/plain": [
       "<Figure size 640x480 with 0 Axes>"
      ]
     },
     "metadata": {},
     "output_type": "display_data"
    },
    {
     "data": {
      "image/png": "[encoded data removed]",
      "text/plain": [
       "<Figure size 1600x800 with 2 Axes>"
      ]
     },
     "metadata": {},
     "output_type": "display_data"
    }
   ],
   "source": [
    "# Plotting loss and accuracy\n",
    "plt.clf()\n",
    "fig, axs = plt.subplots(1,2,figsize=(16,8))\n",
    "axs[0].plot(loss_dict['train'], color='blue', label='Train loss')\n",
    "axs[0].plot(loss_dict['validate'], color='orange', label='Validataion loss')\n",
    "axs[1].plot(acc_dict['train'], color = 'blue', label='Train accuracy')\n",
    "axs[1].plot(acc_dict['validate'], color = 'orange', label='Valid accuracy')\n",
    "#axs[0].set(xticks = range(num_epochs))\n",
    "#axs[1].set(xticks = range(num_epochs))\n",
    "axs[0].set_title(\"Epoch Loss\")\n",
    "axs[1].set_title(\"Epoch Accuracy\")\n",
    "axs[0].set(xlabel=\"Epoch\",ylabel=\"Loss\")\n",
    "axs[1].set(xlabel=\"Epoch\",ylabel=\"Accuracy\")\n",
    "axs[0].legend(loc='best')\n",
    "axs[1].legend(loc='best')\n",
    "plt.show(0)"
   ]
  },
  {
   "cell_type": "code",
   "execution_count": 41,
   "id": "1ed2a40c",
   "metadata": {},
   "outputs": [
    {
     "name": "stdout",
     "output_type": "stream",
     "text": [
      "Predicted Class:\n",
      " [0, 1, 0, 0, 0, 3, 3, 3, 3, 0]\n",
      "True Class:\n",
      " [0, 1, 0, 2, 0, 3, 3, 3, 3, 2]\n"
     ]
    }
   ],
   "source": [
    "print('Predicted Class:\\n', y_pred[:10])\n",
    "print('True Class:\\n', y_true[:10])"
   ]
  },
  {
   "cell_type": "code",
   "execution_count": 24,
   "id": "85c98004",
   "metadata": {},
   "outputs": [
    {
     "name": "stdout",
     "output_type": "stream",
     "text": [
      "Average Train Loss: 0.3774833885232457\n",
      "Average Validation Loss: 0.40206258860437344\n",
      "Average Train Accuracy: 0.8664074602213856\n",
      "Average Validation Accuracy: 0.8590657311669129\n"
     ]
    }
   ],
   "source": [
    "print('Average Train Loss:', statistics.mean(loss_dict['train']))\n",
    "print('Average Validation Loss:', statistics.mean(loss_dict['validate']))\n",
    "print('Average Train Accuracy:', statistics.mean(acc_dict['train']))\n",
    "print('Average Validation Accuracy:', statistics.mean(acc_dict['validate']))"
   ]
  },
  {
   "cell_type": "markdown",
   "id": "5a467bb9",
   "metadata": {},
   "source": [
    "### Testing"
   ]
  },
  {
   "cell_type": "code",
   "execution_count": 109,
   "id": "d091daea",
   "metadata": {},
   "outputs": [],
   "source": [
    "from torchvision import models as models\n",
    "loss_fn = nn.CrossEntropyLoss()\n",
    "# num_epochs = 30\n",
    "lr = 0.0003\n",
    "# gamma=0.1\n",
    "# milestones = [0.5 * num_epochs, 0.75 * num_epochs]\n",
    "\n",
    "resnet18 = models.resnet18(pretrained = False)\n",
    "resnet18.conv1 = nn.Conv2d(3, 64, kernel_size=(7, 7), stride= (2,2) , padding=(3, 3), bias=False)  # change per task\n",
    "resnet18.fc = nn.Linear(512,4, bias = True)  # change per task\n",
    "# #print(resnet18)\n",
    "\n",
    "model = resnet18\n",
    "optimizer = torch.optim.Adam(model.parameters(), lr=lr)\n",
    "# scheduler = torch.optim.lr_scheduler.MultiStepLR(optimizer, milestones=milestones, gamma=gamma)"
   ]
  },
  {
   "cell_type": "code",
   "execution_count": 110,
   "id": "436711b9",
   "metadata": {},
   "outputs": [],
   "source": [
    "path = './output/FL_global_model_run58.pt'  # change per task \n",
    "my_dict = torch.load(path)"
   ]
  },
  {
   "cell_type": "code",
   "execution_count": 111,
   "id": "d780e1d8",
   "metadata": {},
   "outputs": [],
   "source": [
    "dict1 = my_dict['model']"
   ]
  },
  {
   "cell_type": "code",
   "execution_count": 112,
   "id": "3d84989c",
   "metadata": {},
   "outputs": [
    {
     "data": {
      "text/plain": [
       "<All keys matched successfully>"
      ]
     },
     "execution_count": 112,
     "metadata": {},
     "output_type": "execute_result"
    }
   ],
   "source": [
    "# load best weights\n",
    "#path = './octmnist/output/local_model_site2_run58.pt'  # change per task \n",
    "#model.load_state_dict(my_dict)\n",
    "model.load_state_dict(dict1)\n",
    "#torch.load(path)"
   ]
  },
  {
   "cell_type": "code",
   "execution_count": 113,
   "id": "eafb32b2",
   "metadata": {},
   "outputs": [],
   "source": [
    "def evaluate_model(model, dataloader, loss_fn, phase = 'test'):\n",
    "    model.eval()\n",
    "    running_correct = 0\n",
    "    running_loss = 0\n",
    "    running_total = 0\n",
    "    y_pred = []\n",
    "    y_true = []\n",
    "    pred_score = []\n",
    "    \n",
    "    outputs = [] # testing \n",
    "    y_scores = torch.tensor([])\n",
    "    y_targets = torch.tensor([])\n",
    "    \n",
    "    y_test = [] # binarized labedls\n",
    "    \n",
    "    for data in dataloader[phase]:\n",
    "        image = data['image'].to(device)\n",
    "        label = data['label'].to(device)\n",
    "        target = data['label'].to(device) # tensor form of label\n",
    "        \n",
    "        \n",
    "        label_binarized = label_binarize(label.cpu(), classes = [0,1,2,3]) # for ROC curve  # change per task\n",
    "        if y_test ==[]:\n",
    "            y_test = label_binarized\n",
    "        else:\n",
    "            y_test = np.concatenate((y_test, label_binarized), axis = 0)\n",
    "        \n",
    "        \n",
    "        output = model(image)\n",
    "        loss = loss_fn(output, label)\n",
    "        _, preds = torch.max(output,dim = 1)\n",
    "        y_true += label.cpu().numpy().tolist() # true label list\n",
    "        y_pred += preds.cpu().tolist() # predicted label list\n",
    "        \n",
    "        #pred_scores = nn.Softmax(1)(output).cpu().detach().numpy()\n",
    "        #pred_score += pred_scores.tolist() # predicted label probabilites list\n",
    "        \n",
    "        num_imgs = image.size()[0]\n",
    "        running_correct += torch.sum(preds == label).item()\n",
    "        running_loss += loss.item()*num_imgs\n",
    "        running_total += num_imgs\n",
    "        #output0 = np.array(output.detach().numpy())\n",
    "        #outputs += output0.tolist() # outputs list to check what model is giving\n",
    "        \n",
    "        y_score = output.softmax(dim=-1).cpu()\n",
    "        y_scores = torch.cat((y_scores, y_score), 0)\n",
    "        \n",
    "        targets = target.squeeze().long().cpu()\n",
    "        targets = targets.float().resize_(len(targets), 1)\n",
    "        y_targets = torch.cat((y_targets, targets), 0)\n",
    "    \n",
    "    y_targets = y_targets.detach().numpy()\n",
    "    y_scores = y_scores.detach().numpy()\n",
    "        \n",
    "                \n",
    "    accuracy = float(running_correct/running_total)\n",
    "    loss = float(running_loss/running_total)\n",
    "    \n",
    "    \n",
    "    return accuracy, loss, y_pred, y_true, pred_score, outputs, y_scores, y_targets, y_test"
   ]
  },
  {
   "cell_type": "code",
   "execution_count": 114,
   "id": "c9224523",
   "metadata": {},
   "outputs": [],
   "source": [
    "accuracy, loss, y_pred, y_true, pred_score, outputs, y_scores, y_targets, y_test = evaluate_model(model.to(device), \n",
    "                                                        dataloader, \n",
    "                                                        loss_fn, \n",
    "                                                        phase = 'test')"
   ]
  },
  {
   "cell_type": "code",
   "execution_count": 115,
   "id": "690aa567",
   "metadata": {},
   "outputs": [
    {
     "name": "stdout",
     "output_type": "stream",
     "text": [
      "Eval Loss: 1.7513169746398927\n",
      "Eval Accuracy: 0.71\n",
      "y_true [2, 1, 3, 0, 1, 3, 0, 0, 3, 3]\n",
      "y_pred [3, 1, 3, 0, 1, 3, 0, 0, 3, 3]\n"
     ]
    }
   ],
   "source": [
    "print('Eval Loss:', loss)\n",
    "print('Eval Accuracy:', accuracy)\n",
    "print('y_true',y_true[:10])\n",
    "print('y_pred',y_pred[:10]) \n"
   ]
  },
  {
   "cell_type": "code",
   "execution_count": 116,
   "id": "6d51fd3a",
   "metadata": {},
   "outputs": [
    {
     "name": "stdout",
     "output_type": "stream",
     "text": [
      "y_scores:\n",
      " [[4.24e-03 1.91e-03 2.12e-02 9.73e-01]\n",
      " [4.52e-03 9.95e-01 1.10e-07 1.76e-06]\n",
      " [1.13e-04 2.29e-06 1.26e-04 1.00e+00]\n",
      " [1.00e+00 1.51e-08 1.35e-05 3.21e-10]\n",
      " [5.68e-05 1.00e+00 3.85e-07 1.10e-05]]\n",
      "y_targets:\n",
      " [[2.]\n",
      " [1.]\n",
      " [3.]\n",
      " [0.]\n",
      " [1.]]\n",
      "y_test:\n",
      " [[0 0 1 0]\n",
      " [0 1 0 0]\n",
      " [0 0 0 1]\n",
      " [1 0 0 0]\n",
      " [0 1 0 0]]\n"
     ]
    }
   ],
   "source": [
    "#print('pred_scores:\\n',np.array(pred_score[:5])) # probability of each class\n",
    "#print('model output:\\n',np.array(outputs[:5])) # model output\n",
    "print('y_scores:\\n', y_scores[:5])\n",
    "print('y_targets:\\n', y_targets[:5])\n",
    "print('y_test:\\n', y_test[:5])"
   ]
  },
  {
   "cell_type": "code",
   "execution_count": 117,
   "id": "bf34953e",
   "metadata": {},
   "outputs": [],
   "source": [
    "# https://scikit-learn.org/stable/auto_examples/model_selection/plot_roc.html\n",
    "def ROC_curve(y_test,y_score):\n",
    "    y_test = y_test.squeeze()\n",
    "    y_score = y_score.squeeze()\n",
    "\n",
    "    fpr = dict()\n",
    "    tpr = dict()\n",
    "    roc_auc = dict()\n",
    "    n_classes = 4     # change per task\n",
    "\n",
    "\n",
    "    for i in range(n_classes):\n",
    "        fpr[i], tpr[i], _ = roc_curve(y_test[:, i], y_score[:, i])\n",
    "        roc_auc[i] = auc(fpr[i], tpr[i])\n",
    "\n",
    "    colors = cycle(['aqua', 'darkorange', 'cornflowerblue', 'mediumorchid', 'lightcoral'])\n",
    "    lw = 2\n",
    "    for i, color in zip(range(n_classes), colors):\n",
    "        plt.plot(fpr[i], tpr[i], color=color, lw=lw,\n",
    "                 label='ROC curve of class {0} (area = {1:0.2f})'\n",
    "                 ''.format(i, roc_auc[i]))\n",
    "        print('AUC of Class',i, roc_auc[i])\n",
    "\n",
    "\n",
    "    plt.plot([0, 1], [0, 1], 'k--', lw=lw)\n",
    "    plt.xlim([0.0, 1.0])\n",
    "    plt.ylim([0.0, 1.05])\n",
    "    plt.xlabel('False Positive Rate')\n",
    "    plt.ylabel('True Positive Rate')\n",
    "    plt.title('One-Vs-Rest Multi-Class ROC')\n",
    "    plt.legend(loc=\"lower right\")\n",
    "    plt.show();\n",
    "    return None\n",
    "\n"
   ]
  },
  {
   "cell_type": "code",
   "execution_count": 118,
   "id": "acad7d42",
   "metadata": {},
   "outputs": [
    {
     "name": "stdout",
     "output_type": "stream",
     "text": [
      "AUC of Class 0 0.9482933333333333\n",
      "AUC of Class 1 0.9428426666666666\n",
      "AUC of Class 2 0.8354133333333332\n",
      "AUC of Class 3 0.9488719999999999\n"
     ]
    },
    {
     "data": {
      "image/png": "[encoded data removed]",
      "text/plain": [
       "<Figure size 432x288 with 1 Axes>"
      ]
     },
     "metadata": {
      "needs_background": "light"
     },
     "output_type": "display_data"
    }
   ],
   "source": [
    "plt.clf()\n",
    "ROC_curve(y_test,y_scores)"
   ]
  },
  {
   "cell_type": "code",
   "execution_count": 119,
   "id": "1e606a6a",
   "metadata": {},
   "outputs": [],
   "source": [
    "def getAUC(y_true, y_scores):\n",
    "    '''AUC metric.\n",
    "    :param y_true: the ground truth labels, shape: (n_samples, n_labels) or (n_samples,) if n_labels==1\n",
    "    :param y_score: the predicted score of each class,\n",
    "    shape: (n_samples, n_labels) or (n_samples, n_classes) or (n_samples,) if n_labels==1 or n_classes==1\n",
    "    :param task: the task of current dataset\n",
    "    '''\n",
    "    y_true = y_true.squeeze()\n",
    "    y_scores = y_scores.squeeze()\n",
    "\n",
    "    auc = 0\n",
    "    for i in range(y_scores.shape[1]):\n",
    "        y_true_binary = (y_true == i).astype(float)\n",
    "        y_score_binary = y_scores[:, i]\n",
    "        auc += roc_auc_score(y_true_binary, y_score_binary)\n",
    "    AUC = auc / y_scores.shape[1]\n",
    "\n",
    "    return AUC\n",
    "\n",
    "def getACC(y_true, y_scores):\n",
    "    '''Accuracy metric.\n",
    "    :param y_true: the ground truth labels, shape: (n_samples, n_labels) or (n_samples,) if n_labels==1\n",
    "    :param y_score: the predicted score of each class,\n",
    "    shape: (n_samples, n_labels) or (n_samples, n_classes) or (n_samples,) if n_labels==1 or n_classes==1\n",
    "    :param task: the task of current dataset\n",
    "    :param threshold: the threshold for multilabel and binary-class tasks\n",
    "    '''\n",
    "    y_true = y_true.squeeze()\n",
    "    y_scores = y_scores.squeeze()\n",
    "\n",
    "    ACC = accuracy_score(y_true, np.argmax(y_scores, axis=-1))\n",
    "\n",
    "    return ACC\n"
   ]
  },
  {
   "cell_type": "code",
   "execution_count": 120,
   "id": "226e9bdf",
   "metadata": {},
   "outputs": [],
   "source": [
    "test_AUC = getAUC(y_targets, y_scores)\n",
    "test_ACC = getACC(y_targets, y_scores)"
   ]
  },
  {
   "cell_type": "code",
   "execution_count": 121,
   "id": "5ea99bd1",
   "metadata": {},
   "outputs": [
    {
     "name": "stdout",
     "output_type": "stream",
     "text": [
      "Test AUC 0.9188553333333334\n",
      "Test ACC 0.71\n"
     ]
    }
   ],
   "source": [
    "print(\"Test AUC\", test_AUC)\n",
    "print(\"Test ACC\", test_ACC)"
   ]
  },
  {
   "cell_type": "code",
   "execution_count": 122,
   "id": "dc00d9bf",
   "metadata": {},
   "outputs": [],
   "source": [
    "# Confusion Matrix\n",
    "from sklearn.metrics import  confusion_matrix, roc_curve, auc\n",
    "import itertools  \n",
    "\n",
    "def plot_confusion_matrix(cm, classes,\n",
    "                          normalize=True,\n",
    "                          title='Confusion matrix',\n",
    "                          cmap=plt.cm.Blues):\n",
    "    \"\"\"\n",
    "    This function prints and plots the confusion matrix.\n",
    "    Normalization can be applied by setting `normalize=True`.\n",
    "    \"\"\"\n",
    "    if normalize:\n",
    "        cm = cm.astype('float') / cm.sum(axis=1)[:, np.newaxis]\n",
    "        print(\"Normalized confusion matrix\")\n",
    "    else:\n",
    "        print('Confusion matrix, without normalization')\n",
    "\n",
    "    print(cm)\n",
    "\n",
    "    plt.imshow(cm, interpolation='nearest', cmap=cmap)\n",
    "    plt.title(title)\n",
    "    plt.colorbar()\n",
    "    tick_marks = np.arange(len(classes))\n",
    "    plt.xticks(tick_marks, classes, rotation=45)\n",
    "    plt.yticks(tick_marks, classes)\n",
    "\n",
    "    fmt = '.2f' if normalize else 'd'\n",
    "    thresh = cm.max() / 2.\n",
    "    for i, j in itertools.product(range(cm.shape[0]), range(cm.shape[1])):\n",
    "        plt.text(j, i, format(cm[i, j], fmt),\n",
    "                 horizontalalignment=\"center\",\n",
    "                 color=\"white\" if cm[i, j] > thresh else \"black\")\n",
    "\n",
    "    plt.tight_layout()\n",
    "    plt.ylabel('True label')\n",
    "    plt.xlabel('Predicted label')\n",
    "\n",
    "# Compute confusion matrix\n",
    "def cm(y_true_model_resnet_WA, y_pred_resnet_WA):\n",
    "    cnf_matrix = confusion_matrix(y_true_model_resnet_WA, y_pred_resnet_WA)\n",
    "    np.set_printoptions(precision=2)\n",
    "    plt.figure()\n",
    "    class_names = ['0:cnv','1 : dme','2 : drusen','3: healthy']  # change per task\n",
    "    plot_confusion_matrix(cnf_matrix, classes=class_names,\n",
    "                          title='Confusion matrix')"
   ]
  },
  {
   "cell_type": "code",
   "execution_count": 123,
   "id": "a27112dc",
   "metadata": {},
   "outputs": [
    {
     "name": "stdout",
     "output_type": "stream",
     "text": [
      "Normalized confusion matrix\n",
      "[[0.93 0.05 0.01 0.01]\n",
      " [0.17 0.76 0.02 0.06]\n",
      " [0.38 0.04 0.24 0.34]\n",
      " [0.02 0.02 0.04 0.92]]\n"
     ]
    },
    {
     "data": {
      "text/plain": [
       "<Figure size 432x288 with 0 Axes>"
      ]
     },
     "metadata": {},
     "output_type": "display_data"
    },
    {
     "data": {
      "image/png": "[encoded data removed]",
      "text/plain": [
       "<Figure size 432x288 with 2 Axes>"
      ]
     },
     "metadata": {
      "needs_background": "light"
     },
     "output_type": "display_data"
    }
   ],
   "source": [
    "plt.clf()\n",
    "cm(y_true,y_pred)\n",
    "plt.show();"
   ]
  },
  {
   "cell_type": "code",
   "execution_count": 107,
   "id": "e89b3cfb",
   "metadata": {},
   "outputs": [
    {
     "name": "stdout",
     "output_type": "stream",
     "text": [
      "              precision    recall  f1-score   support\n",
      "\n",
      "       0:cnv       0.64      0.92      0.76       250\n",
      "     1 : dme       0.85      0.71      0.77       250\n",
      "  2 : drusen       0.72      0.15      0.25       250\n",
      "  3: healthy       0.60      0.92      0.73       250\n",
      "\n",
      "    accuracy                           0.68      1000\n",
      "   macro avg       0.70      0.68      0.63      1000\n",
      "weighted avg       0.70      0.68      0.63      1000\n",
      "\n"
     ]
    }
   ],
   "source": [
    "from sklearn.metrics import classification_report\n",
    "class_names = ['0:cnv','1 : dme','2 : drusen','3: healthy']\n",
    "\n",
    "ClassificationReport = classification_report(y_true, y_pred, target_names = class_names)\n",
    "print(ClassificationReport)"
   ]
  },
  {
   "cell_type": "code",
   "execution_count": null,
   "id": "2e5c78e2",
   "metadata": {},
   "outputs": [],
   "source": []
  },
  {
   "cell_type": "code",
   "execution_count": null,
   "id": "32132c45",
   "metadata": {},
   "outputs": [],
   "source": []
  }
 ],
 "metadata": {
  "kernelspec": {
   "display_name": "Python 3 (ipykernel)",
   "language": "python",
   "name": "python3"
  },
  "language_info": {
   "codemirror_mode": {
    "name": "ipython",
    "version": 3
   },
   "file_extension": ".py",
   "mimetype": "text/x-python",
   "name": "python",
   "nbconvert_exporter": "python",
   "pygments_lexer": "ipython3",
   "version": "3.9.7"
  }
 },
 "nbformat": 4,
 "nbformat_minor": 5
}
